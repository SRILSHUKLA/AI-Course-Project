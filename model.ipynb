{
 "cells": [
  {
   "cell_type": "code",
   "execution_count": 1,
   "id": "4ff05bef-b5f7-455a-b616-8cafd64dacbe",
   "metadata": {},
   "outputs": [],
   "source": [
    "import os\n",
    "import random\n",
    "import numpy as np\n",
    "from tqdm import tqdm\n",
    "import matplotlib.pyplot as plt\n",
    "import itertools\n",
    "import torch\n",
    "import torch.nn as nn\n",
    "import torch.optim as optim\n",
    "from torchvision import models, datasets, transforms\n",
    "from torch.utils.data import DataLoader\n",
    "from sklearn.metrics import f1_score, accuracy_score, confusion_matrix\n",
    "from torch.cuda import amp"
   ]
  },
  {
   "cell_type": "code",
   "execution_count": 2,
   "id": "c84097f6-8846-46d0-924d-edd5999e3d58",
   "metadata": {},
   "outputs": [
    {
     "name": "stdout",
     "output_type": "stream",
     "text": [
      "dev: cuda\n"
     ]
    }
   ],
   "source": [
    "seed = 42\n",
    "os.environ[\"PYTHONHASHSEED\"] = str(seed)\n",
    "random.seed(seed)\n",
    "np.random.seed(seed)\n",
    "torch.manual_seed(seed)\n",
    "if torch.cuda.is_available(): torch.cuda.manual_seed_all(seed)\n",
    "\n",
    "dev = torch.device(\"cuda\" if torch.cuda.is_available() else \"cpu\")\n",
    "print(f\"dev: {dev}\")\n",
    "\n",
    "\n",
    "\n",
    "\n",
    "\n",
    "DATA_DIR = \"dataset\"\n",
    "bs = 64\n",
    "ncls = 2\n",
    "epochs = 20\n",
    "lr = 3e-5\n",
    "wd = 1e-4\n",
    "patience = 5\n",
    "ckpt_path = \"best_resnet50_f1.pth\"\n",
    "resume_weights = \"resnet50_deepfake_finetuned.pth\"  # keep or set None"
   ]
  },
  {
   "cell_type": "code",
   "execution_count": 3,
   "id": "26790287-ce0c-41db-8eb6-eefd7ff65550",
   "metadata": {
    "scrolled": true
   },
   "outputs": [
    {
     "name": "stderr",
     "output_type": "stream",
     "text": [
      "C:\\Users\\samriddhi singh\\AppData\\Roaming\\Python\\Python313\\site-packages\\torchvision\\models\\_utils.py:208: UserWarning: The parameter 'pretrained' is deprecated since 0.13 and may be removed in the future, please use 'weights' instead.\n",
      "  warnings.warn(\n",
      "C:\\Users\\samriddhi singh\\AppData\\Roaming\\Python\\Python313\\site-packages\\torchvision\\models\\_utils.py:223: UserWarning: Arguments other than a weight enum or `None` for 'weights' are deprecated since 0.13 and may be removed in the future. The current behavior is equivalent to passing `weights=ResNet50_Weights.IMAGENET1K_V1`. You can also use `weights=ResNet50_Weights.DEFAULT` to get the most up-to-date weights.\n",
      "  warnings.warn(msg)\n",
      "C:\\Users\\samriddhi singh\\AppData\\Local\\Temp\\ipykernel_16868\\1212563961.py:56: FutureWarning: `torch.cuda.amp.GradScaler(args...)` is deprecated. Please use `torch.amp.GradScaler('cuda', args...)` instead.\n",
      "  scaler = amp.GradScaler()\n"
     ]
    },
    {
     "name": "stdout",
     "output_type": "stream",
     "text": [
      "Epoch 1/20\n"
     ]
    },
    {
     "name": "stderr",
     "output_type": "stream",
     "text": [
      "train:   0%|                                                                                  | 0/2188 [00:00<?, ?it/s]C:\\Users\\samriddhi singh\\AppData\\Local\\Temp\\ipykernel_16868\\1212563961.py:80: FutureWarning: `torch.cuda.amp.autocast(args...)` is deprecated. Please use `torch.amp.autocast('cuda', args...)` instead.\n",
      "  with amp.autocast(enabled=(dev.type==\"cuda\")):\n",
      "                                                                                                                       "
     ]
    },
    {
     "name": "stdout",
     "output_type": "stream",
     "text": [
      " epoch 1 train_acc 71.10% train_f1 0.7130 | val_acc 88.65% val_f1 0.8967\n",
      " saved best model (val_f1=0.8967)\n",
      "Epoch 2/20\n"
     ]
    },
    {
     "name": "stderr",
     "output_type": "stream",
     "text": [
      "train:   0%|                                                                                  | 0/2188 [00:00<?, ?it/s]C:\\Users\\samriddhi singh\\AppData\\Local\\Temp\\ipykernel_16868\\1212563961.py:80: FutureWarning: `torch.cuda.amp.autocast(args...)` is deprecated. Please use `torch.amp.autocast('cuda', args...)` instead.\n",
      "  with amp.autocast(enabled=(dev.type==\"cuda\")):\n",
      "                                                                                                                       "
     ]
    },
    {
     "name": "stdout",
     "output_type": "stream",
     "text": [
      " epoch 2 train_acc 72.46% train_f1 0.7262 | val_acc 89.90% val_f1 0.9078\n",
      " saved best model (val_f1=0.9078)\n",
      "Epoch 3/20\n"
     ]
    },
    {
     "name": "stderr",
     "output_type": "stream",
     "text": [
      "train:   0%|                                                                                  | 0/2188 [00:00<?, ?it/s]C:\\Users\\samriddhi singh\\AppData\\Local\\Temp\\ipykernel_16868\\1212563961.py:80: FutureWarning: `torch.cuda.amp.autocast(args...)` is deprecated. Please use `torch.amp.autocast('cuda', args...)` instead.\n",
      "  with amp.autocast(enabled=(dev.type==\"cuda\")):\n",
      "                                                                                                                       "
     ]
    },
    {
     "name": "stdout",
     "output_type": "stream",
     "text": [
      " epoch 3 train_acc 73.28% train_f1 0.7340 | val_acc 92.36% val_f1 0.9283\n",
      " saved best model (val_f1=0.9283)\n",
      "Epoch 4/20\n"
     ]
    },
    {
     "name": "stderr",
     "output_type": "stream",
     "text": [
      "train:   0%|                                                                                  | 0/2188 [00:00<?, ?it/s]C:\\Users\\samriddhi singh\\AppData\\Local\\Temp\\ipykernel_16868\\1212563961.py:80: FutureWarning: `torch.cuda.amp.autocast(args...)` is deprecated. Please use `torch.amp.autocast('cuda', args...)` instead.\n",
      "  with amp.autocast(enabled=(dev.type==\"cuda\")):\n",
      "                                                                                                                       "
     ]
    },
    {
     "name": "stdout",
     "output_type": "stream",
     "text": [
      " epoch 4 train_acc 72.13% train_f1 0.7229 | val_acc 90.65% val_f1 0.9140\n",
      " no improvement for 1 epoch(s)\n",
      "Epoch 5/20\n"
     ]
    },
    {
     "name": "stderr",
     "output_type": "stream",
     "text": [
      "train:   0%|                                                                                  | 0/2188 [00:00<?, ?it/s]C:\\Users\\samriddhi singh\\AppData\\Local\\Temp\\ipykernel_16868\\1212563961.py:80: FutureWarning: `torch.cuda.amp.autocast(args...)` is deprecated. Please use `torch.amp.autocast('cuda', args...)` instead.\n",
      "  with amp.autocast(enabled=(dev.type==\"cuda\")):\n",
      "                                                                                                                       "
     ]
    },
    {
     "name": "stdout",
     "output_type": "stream",
     "text": [
      " epoch 5 train_acc 74.14% train_f1 0.7429 | val_acc 93.03% val_f1 0.9345\n",
      " saved best model (val_f1=0.9345)\n",
      "Epoch 6/20\n"
     ]
    },
    {
     "name": "stderr",
     "output_type": "stream",
     "text": [
      "train:   0%|                                                                                  | 0/2188 [00:00<?, ?it/s]C:\\Users\\samriddhi singh\\AppData\\Local\\Temp\\ipykernel_16868\\1212563961.py:80: FutureWarning: `torch.cuda.amp.autocast(args...)` is deprecated. Please use `torch.amp.autocast('cuda', args...)` instead.\n",
      "  with amp.autocast(enabled=(dev.type==\"cuda\")):\n",
      "                                                                                                                       "
     ]
    },
    {
     "name": "stdout",
     "output_type": "stream",
     "text": [
      " epoch 6 train_acc 73.41% train_f1 0.7354 | val_acc 94.17% val_f1 0.9446\n",
      " saved best model (val_f1=0.9446)\n",
      "Epoch 7/20\n"
     ]
    },
    {
     "name": "stderr",
     "output_type": "stream",
     "text": [
      "train:   0%|                                                                                  | 0/2188 [00:00<?, ?it/s]C:\\Users\\samriddhi singh\\AppData\\Local\\Temp\\ipykernel_16868\\1212563961.py:80: FutureWarning: `torch.cuda.amp.autocast(args...)` is deprecated. Please use `torch.amp.autocast('cuda', args...)` instead.\n",
      "  with amp.autocast(enabled=(dev.type==\"cuda\")):\n",
      "                                                                                                                       "
     ]
    },
    {
     "name": "stdout",
     "output_type": "stream",
     "text": [
      " epoch 7 train_acc 73.04% train_f1 0.7321 | val_acc 93.38% val_f1 0.9376\n",
      " no improvement for 1 epoch(s)\n",
      "Epoch 8/20\n"
     ]
    },
    {
     "name": "stderr",
     "output_type": "stream",
     "text": [
      "train:   0%|                                                                                  | 0/2188 [00:00<?, ?it/s]C:\\Users\\samriddhi singh\\AppData\\Local\\Temp\\ipykernel_16868\\1212563961.py:80: FutureWarning: `torch.cuda.amp.autocast(args...)` is deprecated. Please use `torch.amp.autocast('cuda', args...)` instead.\n",
      "  with amp.autocast(enabled=(dev.type==\"cuda\")):\n",
      "                                                                                                                       "
     ]
    },
    {
     "name": "stdout",
     "output_type": "stream",
     "text": [
      " epoch 8 train_acc 73.35% train_f1 0.7353 | val_acc 93.09% val_f1 0.9352\n",
      " no improvement for 2 epoch(s)\n",
      "Epoch 9/20\n"
     ]
    },
    {
     "name": "stderr",
     "output_type": "stream",
     "text": [
      "train:   0%|                                                                                  | 0/2188 [00:00<?, ?it/s]C:\\Users\\samriddhi singh\\AppData\\Local\\Temp\\ipykernel_16868\\1212563961.py:80: FutureWarning: `torch.cuda.amp.autocast(args...)` is deprecated. Please use `torch.amp.autocast('cuda', args...)` instead.\n",
      "  with amp.autocast(enabled=(dev.type==\"cuda\")):\n",
      "                                                                                                                       "
     ]
    },
    {
     "name": "stdout",
     "output_type": "stream",
     "text": [
      " epoch 9 train_acc 74.04% train_f1 0.7419 | val_acc 95.23% val_f1 0.9542\n",
      " saved best model (val_f1=0.9542)\n",
      "Epoch 10/20\n"
     ]
    },
    {
     "name": "stderr",
     "output_type": "stream",
     "text": [
      "train:   0%|                                                                                  | 0/2188 [00:00<?, ?it/s]C:\\Users\\samriddhi singh\\AppData\\Local\\Temp\\ipykernel_16868\\1212563961.py:80: FutureWarning: `torch.cuda.amp.autocast(args...)` is deprecated. Please use `torch.amp.autocast('cuda', args...)` instead.\n",
      "  with amp.autocast(enabled=(dev.type==\"cuda\")):\n",
      "                                                                                                                       "
     ]
    },
    {
     "name": "stdout",
     "output_type": "stream",
     "text": [
      " epoch 10 train_acc 73.79% train_f1 0.7396 | val_acc 94.88% val_f1 0.9509\n",
      " no improvement for 1 epoch(s)\n",
      "Epoch 11/20\n"
     ]
    },
    {
     "name": "stderr",
     "output_type": "stream",
     "text": [
      "train:   0%|                                                                                  | 0/2188 [00:00<?, ?it/s]C:\\Users\\samriddhi singh\\AppData\\Local\\Temp\\ipykernel_16868\\1212563961.py:80: FutureWarning: `torch.cuda.amp.autocast(args...)` is deprecated. Please use `torch.amp.autocast('cuda', args...)` instead.\n",
      "  with amp.autocast(enabled=(dev.type==\"cuda\")):\n",
      "                                                                                                                       "
     ]
    },
    {
     "name": "stdout",
     "output_type": "stream",
     "text": [
      " epoch 11 train_acc 73.46% train_f1 0.7361 | val_acc 95.17% val_f1 0.9537\n",
      " no improvement for 2 epoch(s)\n",
      "Epoch 12/20\n"
     ]
    },
    {
     "name": "stderr",
     "output_type": "stream",
     "text": [
      "train:   0%|                                                                                  | 0/2188 [00:00<?, ?it/s]C:\\Users\\samriddhi singh\\AppData\\Local\\Temp\\ipykernel_16868\\1212563961.py:80: FutureWarning: `torch.cuda.amp.autocast(args...)` is deprecated. Please use `torch.amp.autocast('cuda', args...)` instead.\n",
      "  with amp.autocast(enabled=(dev.type==\"cuda\")):\n",
      "                                                                                                                       "
     ]
    },
    {
     "name": "stdout",
     "output_type": "stream",
     "text": [
      " epoch 12 train_acc 73.74% train_f1 0.7388 | val_acc 95.40% val_f1 0.9558\n",
      " saved best model (val_f1=0.9558)\n",
      "Epoch 13/20\n"
     ]
    },
    {
     "name": "stderr",
     "output_type": "stream",
     "text": [
      "train:   0%|                                                                                  | 0/2188 [00:00<?, ?it/s]C:\\Users\\samriddhi singh\\AppData\\Local\\Temp\\ipykernel_16868\\1212563961.py:80: FutureWarning: `torch.cuda.amp.autocast(args...)` is deprecated. Please use `torch.amp.autocast('cuda', args...)` instead.\n",
      "  with amp.autocast(enabled=(dev.type==\"cuda\")):\n",
      "                                                                                                                       "
     ]
    },
    {
     "name": "stdout",
     "output_type": "stream",
     "text": [
      " epoch 13 train_acc 74.14% train_f1 0.7430 | val_acc 95.54% val_f1 0.9570\n",
      " saved best model (val_f1=0.9570)\n",
      "Epoch 14/20\n"
     ]
    },
    {
     "name": "stderr",
     "output_type": "stream",
     "text": [
      "train:   0%|                                                                                  | 0/2188 [00:00<?, ?it/s]C:\\Users\\samriddhi singh\\AppData\\Local\\Temp\\ipykernel_16868\\1212563961.py:80: FutureWarning: `torch.cuda.amp.autocast(args...)` is deprecated. Please use `torch.amp.autocast('cuda', args...)` instead.\n",
      "  with amp.autocast(enabled=(dev.type==\"cuda\")):\n",
      "                                                                                                                       "
     ]
    },
    {
     "name": "stdout",
     "output_type": "stream",
     "text": [
      " epoch 14 train_acc 74.84% train_f1 0.7501 | val_acc 95.22% val_f1 0.9542\n",
      " no improvement for 1 epoch(s)\n",
      "Epoch 15/20\n"
     ]
    },
    {
     "name": "stderr",
     "output_type": "stream",
     "text": [
      "train:   0%|                                                                                  | 0/2188 [00:00<?, ?it/s]C:\\Users\\samriddhi singh\\AppData\\Local\\Temp\\ipykernel_16868\\1212563961.py:80: FutureWarning: `torch.cuda.amp.autocast(args...)` is deprecated. Please use `torch.amp.autocast('cuda', args...)` instead.\n",
      "  with amp.autocast(enabled=(dev.type==\"cuda\")):\n",
      "                                                                                                                       "
     ]
    },
    {
     "name": "stdout",
     "output_type": "stream",
     "text": [
      " epoch 15 train_acc 73.83% train_f1 0.7395 | val_acc 95.76% val_f1 0.9591\n",
      " saved best model (val_f1=0.9591)\n",
      "Epoch 16/20\n"
     ]
    },
    {
     "name": "stderr",
     "output_type": "stream",
     "text": [
      "train:   0%|                                                                                  | 0/2188 [00:00<?, ?it/s]C:\\Users\\samriddhi singh\\AppData\\Local\\Temp\\ipykernel_16868\\1212563961.py:80: FutureWarning: `torch.cuda.amp.autocast(args...)` is deprecated. Please use `torch.amp.autocast('cuda', args...)` instead.\n",
      "  with amp.autocast(enabled=(dev.type==\"cuda\")):\n",
      "                                                                                                                       "
     ]
    },
    {
     "name": "stdout",
     "output_type": "stream",
     "text": [
      " epoch 16 train_acc 73.77% train_f1 0.7393 | val_acc 95.96% val_f1 0.9609\n",
      " saved best model (val_f1=0.9609)\n",
      "Epoch 17/20\n"
     ]
    },
    {
     "name": "stderr",
     "output_type": "stream",
     "text": [
      "train:   0%|                                                                                  | 0/2188 [00:00<?, ?it/s]C:\\Users\\samriddhi singh\\AppData\\Local\\Temp\\ipykernel_16868\\1212563961.py:80: FutureWarning: `torch.cuda.amp.autocast(args...)` is deprecated. Please use `torch.amp.autocast('cuda', args...)` instead.\n",
      "  with amp.autocast(enabled=(dev.type==\"cuda\")):\n",
      "train:  83%|███████████████████████████████████████        | 1816/2188 [12:57<01:49,  3.40it/s, acc=100.0%, loss=0.128]IOPub message rate exceeded.\n",
      "The Jupyter server will temporarily stop sending output\n",
      "to the client in order to avoid crashing it.\n",
      "To change this limit, set the config variable\n",
      "`--ServerApp.iopub_msg_rate_limit`.\n",
      "\n",
      "Current values:\n",
      "ServerApp.iopub_msg_rate_limit=1000.0 (msgs/sec)\n",
      "ServerApp.rate_limit_window=3.0 (secs)\n",
      "\n",
      "                                                                                                                       "
     ]
    },
    {
     "name": "stdout",
     "output_type": "stream",
     "text": [
      " epoch 17 train_acc 74.70% train_f1 0.7484 | val_acc 96.06% val_f1 0.9619\n",
      " saved best model (val_f1=0.9619)\n",
      "Epoch 18/20\n"
     ]
    },
    {
     "name": "stderr",
     "output_type": "stream",
     "text": [
      "train:   0%|                                                                                  | 0/2188 [00:00<?, ?it/s]C:\\Users\\samriddhi singh\\AppData\\Local\\Temp\\ipykernel_16868\\1212563961.py:80: FutureWarning: `torch.cuda.amp.autocast(args...)` is deprecated. Please use `torch.amp.autocast('cuda', args...)` instead.\n",
      "  with amp.autocast(enabled=(dev.type==\"cuda\")):\n",
      "                                                                                                                       "
     ]
    },
    {
     "name": "stdout",
     "output_type": "stream",
     "text": [
      " epoch 18 train_acc 73.86% train_f1 0.7402 | val_acc 95.67% val_f1 0.9583\n",
      " no improvement for 1 epoch(s)\n",
      "Epoch 19/20\n"
     ]
    },
    {
     "name": "stderr",
     "output_type": "stream",
     "text": [
      "train:   0%|                                                                                  | 0/2188 [00:00<?, ?it/s]C:\\Users\\samriddhi singh\\AppData\\Local\\Temp\\ipykernel_16868\\1212563961.py:80: FutureWarning: `torch.cuda.amp.autocast(args...)` is deprecated. Please use `torch.amp.autocast('cuda', args...)` instead.\n",
      "  with amp.autocast(enabled=(dev.type==\"cuda\")):\n",
      "                                                                                                                       "
     ]
    },
    {
     "name": "stdout",
     "output_type": "stream",
     "text": [
      " epoch 19 train_acc 73.41% train_f1 0.7360 | val_acc 96.39% val_f1 0.9649\n",
      " saved best model (val_f1=0.9649)\n",
      "Epoch 20/20\n"
     ]
    },
    {
     "name": "stderr",
     "output_type": "stream",
     "text": [
      "train:   0%|                                                                                  | 0/2188 [00:00<?, ?it/s]C:\\Users\\samriddhi singh\\AppData\\Local\\Temp\\ipykernel_16868\\1212563961.py:80: FutureWarning: `torch.cuda.amp.autocast(args...)` is deprecated. Please use `torch.amp.autocast('cuda', args...)` instead.\n",
      "  with amp.autocast(enabled=(dev.type==\"cuda\")):\n",
      "                                                                                                                       "
     ]
    },
    {
     "name": "stdout",
     "output_type": "stream",
     "text": [
      " epoch 20 train_acc 73.42% train_f1 0.7360 | val_acc 96.31% val_f1 0.9642\n",
      " no improvement for 1 epoch(s)\n",
      "Running final evaluation on test set\n"
     ]
    },
    {
     "name": "stderr",
     "output_type": "stream",
     "text": [
      "                                                                                                                       "
     ]
    },
    {
     "name": "stdout",
     "output_type": "stream",
     "text": [
      "TEST acc 84.96% f1 0.8390\n"
     ]
    },
    {
     "name": "stderr",
     "output_type": "stream",
     "text": [
      "                                                                                                                       "
     ]
    },
    {
     "name": "stdout",
     "output_type": "stream",
     "text": [
      "Best-model TEST acc 85.40% f1 0.8434\n"
     ]
    },
    {
     "name": "stderr",
     "output_type": "stream",
     "text": []
    }
   ],
   "source": [
    "# aug\n",
    "tr_tf = transforms.Compose([\n",
    "    transforms.RandomResizedCrop(224, scale=(0.6, 1.0)),\n",
    "    transforms.RandomHorizontalFlip(),\n",
    "    transforms.ColorJitter(0.2,0.2,0.2,0.1),\n",
    "    transforms.RandomRotation(10),\n",
    "    transforms.ToTensor(),\n",
    "    transforms.RandomErasing(p=0.3, scale=(0.02,0.2)),\n",
    "    transforms.Normalize([0.485,0.456,0.406],[0.229,0.224,0.225])\n",
    "])\n",
    "vt_tf = transforms.Compose([\n",
    "    transforms.Resize((224,224)),\n",
    "    transforms.ToTensor(),\n",
    "    transforms.Normalize([0.485,0.456,0.406],[0.229,0.224,0.225])\n",
    "])\n",
    "\n",
    "tr_ds = datasets.ImageFolder(os.path.join(DATA_DIR,\"train\"), transform=tr_tf)\n",
    "vl_ds = datasets.ImageFolder(os.path.join(DATA_DIR,\"val\"), transform=vt_tf)\n",
    "te_ds = datasets.ImageFolder(os.path.join(DATA_DIR,\"test\"), transform=vt_tf)\n",
    "\n",
    "tr_ld = DataLoader(tr_ds, batch_size=bs, shuffle=True, num_workers=4, pin_memory=True)\n",
    "vl_ld = DataLoader(vl_ds, batch_size=bs, shuffle=False, num_workers=4, pin_memory=True)\n",
    "te_ld = DataLoader(te_ds, batch_size=bs, shuffle=False, num_workers=4, pin_memory=True)\n",
    "\n",
    "# model\n",
    "m = models.resnet50(pretrained=True)\n",
    "for p in m.parameters(): p.requires_grad = False\n",
    "# unfreeze layer4 and bn/last layers\n",
    "for n, ch in m.named_children():\n",
    "    if n == \"layer4\": \n",
    "        for p in ch.parameters(): p.requires_grad = True\n",
    "\n",
    "in_f = m.fc.in_features\n",
    "m.fc = nn.Sequential(\n",
    "    nn.Linear(in_f, 1024),\n",
    "    nn.BatchNorm1d(1024),\n",
    "    nn.ReLU(inplace=True),\n",
    "    nn.Dropout(0.5),\n",
    "    nn.Linear(1024, 512),\n",
    "    nn.ReLU(inplace=True),\n",
    "    nn.Dropout(0.4),\n",
    "    nn.Linear(512, ncls)\n",
    ")\n",
    "m = m.to(dev)\n",
    "\n",
    "if resume_weights and os.path.exists(resume_weights):\n",
    "    sd = torch.load(resume_weights, map_location=dev)\n",
    "    try:\n",
    "        m.load_state_dict(sd)\n",
    "        print(\"loaded resume weights\")\n",
    "    except Exception as e:\n",
    "        print(\"loading weights failed:\", e)\n",
    "\n",
    "opt = optim.AdamW(filter(lambda p: p.requires_grad, m.parameters()), lr=lr, weight_decay=wd)\n",
    "sched = optim.lr_scheduler.CosineAnnealingWarmRestarts(opt, T_0=3, T_mult=1)\n",
    "scaler = amp.GradScaler()\n",
    "crit = nn.CrossEntropyLoss()\n",
    "\n",
    "# mixup helper (simple)\n",
    "def mixup(x, y, a=0.4):\n",
    "    if a <= 0: return x, y, 1.0, None\n",
    "    lam = np.random.beta(a, a)\n",
    "    idx = torch.randperm(x.size(0)).to(x.device)\n",
    "    x2 = x[idx]\n",
    "    y2 = y[idx]\n",
    "    x = lam * x + (1-lam) * x2\n",
    "    return x, y, lam, y2\n",
    "\n",
    "def train_epoch(model, ld, opt, crit, scaler, use_mix=True):\n",
    "    model.train()\n",
    "    y_true = []\n",
    "    y_pred = []\n",
    "    tot_loss = 0.0\n",
    "    pbar = tqdm(ld, desc=\"train\", leave=False)\n",
    "    for xb, yb in pbar:\n",
    "        xb, yb = xb.to(dev), yb.to(dev)\n",
    "        if use_mix:\n",
    "            xb, yb_a, lam, yb_b = mixup(xb, yb, a=0.3)\n",
    "        opt.zero_grad()\n",
    "        with amp.autocast(enabled=(dev.type==\"cuda\")):\n",
    "            out = model(xb)\n",
    "            if use_mix and lam < 1.0 and yb_b is not None:\n",
    "                loss = lam * crit(out, yb_a) + (1-lam) * crit(out, yb_b.to(dev))\n",
    "            else:\n",
    "                loss = crit(out, yb)\n",
    "        scaler.scale(loss).backward()\n",
    "        scaler.step(opt)\n",
    "        scaler.update()\n",
    "        tot_loss += loss.item() * xb.size(0)\n",
    "        preds = out.argmax(1).detach().cpu().numpy()\n",
    "        y_true.extend(yb.cpu().numpy())\n",
    "        y_pred.extend(preds)\n",
    "        acc = 100.0 * (np.array(preds) == yb.cpu().numpy()).sum() / xb.size(0)\n",
    "        pbar.set_postfix(loss=loss.item(), acc=f\"{acc:.1f}%\")\n",
    "    avg_loss = tot_loss / len(ld.dataset)\n",
    "    acc_epoch = accuracy_score(y_true, y_pred)\n",
    "    f1_epoch = f1_score(y_true, y_pred, average='binary')\n",
    "    return avg_loss, acc_epoch, f1_epoch\n",
    "\n",
    "def eval_epoch(model, ld, crit):\n",
    "    model.eval()\n",
    "    y_true = []\n",
    "    y_pred = []\n",
    "    tot_loss = 0.0\n",
    "    pbar = tqdm(ld, desc=\"eval\", leave=False)\n",
    "    with torch.no_grad():\n",
    "        for xb, yb in pbar:\n",
    "            xb, yb = xb.to(dev), yb.to(dev)\n",
    "            out = model(xb)\n",
    "            loss = crit(out, yb)\n",
    "            tot_loss += loss.item() * xb.size(0)\n",
    "            preds = out.argmax(1).detach().cpu().numpy()\n",
    "            y_true.extend(yb.cpu().numpy())\n",
    "            y_pred.extend(preds)\n",
    "            acc = 100.0 * (np.array(preds) == yb.cpu().numpy()).sum() / xb.size(0)\n",
    "            pbar.set_postfix(loss=loss.item(), acc=f\"{acc:.1f}%\")\n",
    "    avg_loss = tot_loss / len(ld.dataset)\n",
    "    acc_epoch = accuracy_score(y_true, y_pred)\n",
    "    f1_epoch = f1_score(y_true, y_pred, average='binary')\n",
    "    return avg_loss, acc_epoch, f1_epoch, np.array(y_true), np.array(y_pred)\n",
    "\n",
    "# training\n",
    "t_losses, v_losses = [], []\n",
    "t_accs, v_accs = [], []\n",
    "t_f1s, v_f1s = [], []\n",
    "best_f1 = -1.0\n",
    "es_ctr = 0\n",
    "\n",
    "for e in range(epochs):\n",
    "    print(f\"Epoch {e+1}/{epochs}\")\n",
    "    tr_loss, tr_acc, tr_f1 = train_epoch(m, tr_ld, opt, crit, scaler, use_mix=True)\n",
    "    vl_loss, vl_acc, vl_f1, vl_y, vl_p = eval_epoch(m, vl_ld, crit)\n",
    "    sched.step()\n",
    "    t_losses.append(tr_loss); v_losses.append(vl_loss)\n",
    "    t_accs.append(tr_acc); v_accs.append(vl_acc)\n",
    "    t_f1s.append(tr_f1); v_f1s.append(vl_f1)\n",
    "\n",
    "    print(f\" epoch {e+1} train_acc {tr_acc*100:.2f}% train_f1 {tr_f1:.4f} | val_acc {vl_acc*100:.2f}% val_f1 {vl_f1:.4f}\")\n",
    "\n",
    "    if vl_f1 > best_f1:\n",
    "        best_f1 = vl_f1\n",
    "        torch.save({\n",
    "            \"epoch\": e+1,\n",
    "            \"model_state\": m.state_dict(),\n",
    "            \"opt_state\": opt.state_dict(),\n",
    "            \"best_f1\": best_f1\n",
    "        }, ckpt_path)\n",
    "        print(f\" saved best model (val_f1={best_f1:.4f})\")\n",
    "        es_ctr = 0\n",
    "    else:\n",
    "        es_ctr += 1\n",
    "        print(f\" no improvement for {es_ctr} epoch(s)\")\n",
    "\n",
    "    if es_ctr >= patience:\n",
    "        print(\"early stopping\")\n",
    "        break\n",
    "\n",
    "# final eval on test set\n",
    "print(\"Running final evaluation on test set\")\n",
    "t_loss, t_acc, t_f1, t_y, t_p = eval_epoch(m, te_ld, crit)\n",
    "print(f\"TEST acc {t_acc*100:.2f}% f1 {t_f1:.4f}\")\n",
    "\n",
    "# load best for confusion matrix & final metrics (if exists)\n",
    "if os.path.exists(ckpt_path):\n",
    "    ck = torch.load(ckpt_path, map_location=dev)\n",
    "    try:\n",
    "        m.load_state_dict(ck[\"model_state\"])\n",
    "    except Exception:\n",
    "        pass\n",
    "\n",
    "_, te_acc, te_f1, y_true, y_pred = eval_epoch(m, te_ld, crit)\n",
    "print(f\"Best-model TEST acc {te_acc*100:.2f}% f1 {te_f1:.4f}\")"
   ]
  },
  {
   "cell_type": "code",
   "execution_count": 4,
   "id": "416e79b4-3a30-4d57-aada-ad403616ddbc",
   "metadata": {},
   "outputs": [
    {
     "name": "stdout",
     "output_type": "stream",
     "text": [
      "saved train_val_curves.png\n",
      "saved confusion_matrix.png\n"
     ]
    },
    {
     "data": {
      "image/png": "[encoded data removed]",
      "text/plain": [
       "<Figure size 1200x500 with 2 Axes>"
      ]
     },
     "metadata": {},
     "output_type": "display_data"
    },
    {
     "data": {
      "image/png": "[encoded data removed]",
      "text/plain": [
       "<Figure size 600x500 with 2 Axes>"
      ]
     },
     "metadata": {},
     "output_type": "display_data"
    }
   ],
   "source": [
    "# plots\n",
    "plt.figure(figsize=(12,5))\n",
    "plt.subplot(1,2,1)\n",
    "plt.plot(np.arange(1,len(t_accs)+1), [a*100 for a in t_accs], label=\"train acc\")\n",
    "plt.plot(np.arange(1,len(v_accs)+1), [a*100 for a in v_accs], label=\"val acc\")\n",
    "plt.xlabel(\"epoch\"); plt.ylabel(\"accuracy %\"); plt.title(\"Accuracy\")\n",
    "plt.legend()\n",
    "plt.subplot(1,2,2)\n",
    "plt.plot(np.arange(1,len(t_f1s)+1), t_f1s, label=\"train f1\")\n",
    "plt.plot(np.arange(1,len(v_f1s)+1), v_f1s, label=\"val f1\")\n",
    "plt.xlabel(\"epoch\"); plt.ylabel(\"F1\"); plt.title(\"F1 score\")\n",
    "plt.legend()\n",
    "plt.tight_layout()\n",
    "plt.savefig(\"train_val_curves.png\")\n",
    "print(\"saved train_val_curves.png\")\n",
    "\n",
    "# confusion matrix\n",
    "cm = confusion_matrix(y_true, y_pred)\n",
    "classes = [c for c,_ in sorted(tr_ds.class_to_idx.items(), key=lambda x:x[1])]\n",
    "plt.figure(figsize=(6,5))\n",
    "plt.imshow(cm, interpolation='nearest')\n",
    "plt.title(\"Confusion matrix (test)\")\n",
    "plt.colorbar()\n",
    "tick_marks = np.arange(len(classes))\n",
    "plt.xticks(tick_marks, classes, rotation=45)\n",
    "plt.yticks(tick_marks, classes)\n",
    "thresh = cm.max() / 2.\n",
    "for i, j in itertools.product(range(cm.shape[0]), range(cm.shape[1])):\n",
    "    plt.text(j, i, format(cm[i, j], 'd'),\n",
    "             horizontalalignment=\"center\",\n",
    "             verticalalignment=\"center\",\n",
    "             color=\"white\" if cm[i, j] > thresh else \"black\")\n",
    "plt.ylabel('True label'); plt.xlabel('Predicted label')\n",
    "plt.tight_layout()\n",
    "plt.savefig(\"confusion_matrix.png\")\n",
    "print(\"saved confusion_matrix.png\")\n"
   ]
  },
  {
   "cell_type": "code",
   "execution_count": null,
   "id": "d69cbf11-90a4-48d8-a546-405d9f51a1de",
   "metadata": {},
   "outputs": [],
   "source": []
  }
 ],
 "metadata": {
  "kernelspec": {
   "display_name": "Python 3 (ipykernel)",
   "language": "python",
   "name": "python3"
  },
  "language_info": {
   "codemirror_mode": {
    "name": "ipython",
    "version": 3
   },
   "file_extension": ".py",
   "mimetype": "text/x-python",
   "name": "python",
   "nbconvert_exporter": "python",
   "pygments_lexer": "ipython3",
   "version": "3.13.1"
  }
 },
 "nbformat": 4,
 "nbformat_minor": 5
}
